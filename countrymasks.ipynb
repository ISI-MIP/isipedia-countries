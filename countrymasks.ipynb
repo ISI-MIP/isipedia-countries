version https://git-lfs.github.com/spec/v1
oid sha256:45f1ffde94e6a229dd2428a69a1edaf4c77ed28675f6a64b7a3bc0b5f45e27ef
size 10832102
