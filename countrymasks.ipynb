version https://git-lfs.github.com/spec/v1
oid sha256:bc1e611f5bb5b5b72bfc49273ea8215944f1c0cb4bba3e6cac6e43fea3f3b7a3
size 15282898
