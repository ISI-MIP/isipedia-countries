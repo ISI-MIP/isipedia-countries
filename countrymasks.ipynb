version https://git-lfs.github.com/spec/v1
oid sha256:fc840328d86795dc9dfb583eb6b0946ccb6280dca98a5cbaf8e6010cd1bbe47e
size 15216887
